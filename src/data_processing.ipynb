{
 "cells": [
  {
   "cell_type": "markdown",
   "metadata": {},
   "source": [
    "## 데이터 프로세싱\n",
    "\n",
    "### 1. 데이터 전처리 (Data Preprocessing)\n",
    "\n",
    "데이터 품질을 보장하고 모델에 적합한 기본 데이터를 준비하는 단계.\n",
    "\n",
    "- **결측치 처리**: 제거, 대체 (평균/중앙값/모델 기반 대체 등).\n",
    "- **이상치 처리**: 제거, 조정, 또는 모델링 고려.\n",
    "- **데이터 정리**: 중복 데이터 제거, 불필요한 컬럼 삭제.\n",
    "- **파생 피처 생성**: 기존 데이터를 조합하거나 변환하여 새로운 피처 생성.\n",
    "\n",
    "### 2. 탐색적 데이터 분석 (EDA - Exploratory Data Analysis)\n",
    "\n",
    "데이터의 구조와 분포를 이해하고, 모델링 전략을 세우기 위한 분석 단계.\n",
    "\n",
    "- 칼럼 타입 분리 및 탐구\n",
    "  - **Categorical vs. Numerical** 구분.\n",
    "  - **종속(Dependent) vs. 독립(Independent)** 변수 구분.\n",
    "- 분포 및 관계 분석\n",
    "  - **Categorical**:\n",
    "    - 빈도 분석.\n",
    "    - 타겟과의 카이제곱 검정.\n",
    "  - **Numerical**:\n",
    "    - 평균, 표준편차, 상관 관계.\n",
    "    - 타겟과의 관계(크루스칼-왈리스 검정 등).\n",
    "\n",
    "### 3. 피처 선택 (Feature Selection)\n",
    "\n",
    "모델 성능을 높이기 위해 유의미한 변수만 남기는 단계.\n",
    "\n",
    "- 유의미 피처 필터링\n",
    "  - 가설 검정 (카이제곱 검정, 크루스칼-왈리스 등)으로 타겟과 관련된 변수 선택.\n",
    "  - 타겟과 상관 관계가 높은 피처 우선순위 설정.\n",
    "- 피처 제거\n",
    "  - 상관 분석(VIF 등)을 통해 다중공선성(Multicollinearity)이 높은 피처 제거.\n",
    "\n",
    "### 4. 피처 변환 (Feature Transformation)\n",
    "\n",
    "데이터를 모델에 맞게 조정 및 변환하는 단계.\n",
    "\n",
    "- 인코딩 (Encoding)\n",
    "  - Label Encoding, One-Hot Encoding 등.\n",
    "- 스케일링 (Scaling)\n",
    "  - 수치 데이터의 크기를 조정 (표준화, 정규화).\n",
    "- 불균형 데이터 처리\n",
    "  - SMOTE, SMOTEENN 등으로 데이터 균형 조정."
   ]
  }
 ],
 "metadata": {
  "kernelspec": {
   "display_name": "Python 3",
   "language": "python",
   "name": "python3"
  },
  "language_info": {
   "codemirror_mode": {
    "name": "ipython",
    "version": 3
   },
   "file_extension": ".py",
   "mimetype": "text/x-python",
   "name": "python",
   "nbconvert_exporter": "python",
   "pygments_lexer": "ipython3",
   "version": "3.9.0"
  },
  "orig_nbformat": 4
 },
 "nbformat": 4,
 "nbformat_minor": 2
}
